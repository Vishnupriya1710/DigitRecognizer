{
 "cells": [
  {
   "cell_type": "markdown",
   "id": "4f7005c2",
   "metadata": {},
   "source": [
    "## Midterm Project"
   ]
  },
  {
   "cell_type": "markdown",
   "id": "7119e06c",
   "metadata": {},
   "source": [
    "#### Vishnupriya Santhosh (vs263)"
   ]
  },
  {
   "cell_type": "code",
   "execution_count": 5,
   "id": "bc87745f",
   "metadata": {},
   "outputs": [],
   "source": [
    "# Importing the required libraries\n",
    "import tensorflow as tf\n",
    "from tensorflow import keras\n",
    "import pandas as pd\n",
    "import numpy as np\n",
    "import matplotlib.pyplot as plt\n",
    "from matplotlib.pyplot import savefig\n",
    "from tensorflow.keras import layers\n",
    "import os\n",
    "from sklearn.model_selection import *"
   ]
  },
  {
   "cell_type": "code",
   "execution_count": 6,
   "id": "021a61c8",
   "metadata": {},
   "outputs": [],
   "source": [
    "np.random.seed(42)\n",
    "%matplotlib inline\n",
    "\n",
    "plt.rc('axes', labelsize=14)\n",
    "plt.rc('xtick', labelsize=12)\n",
    "plt.rc('ytick', labelsize=12)"
   ]
  },
  {
   "cell_type": "code",
   "execution_count": 7,
   "id": "be8737da",
   "metadata": {},
   "outputs": [],
   "source": [
    "PROJECT_ROOT_DIR = \".\"\n",
    "CHAPTER_ID = \"digitrec\"\n",
    "IMAGES_PATH = os.path.join(PROJECT_ROOT_DIR, \"images\", CHAPTER_ID)\n",
    "os.makedirs(IMAGES_PATH, exist_ok=True)\n",
    "\n",
    "def save_fig(fig_id, tight_layout=True, fig_extension=\"png\", resolution=300):\n",
    "    path = os.path.join(IMAGES_PATH, fig_id + \".\" + fig_extension)\n",
    "    print(\"Saving figure\", fig_id)\n",
    "    if tight_layout:\n",
    "        plt.tight_layout()\n",
    "    plt.savefig(path, format=fig_extension, dpi=resolution)"
   ]
  },
  {
   "cell_type": "markdown",
   "id": "32ae020d",
   "metadata": {},
   "source": [
    "#### Building the input pipeline"
   ]
  },
  {
   "cell_type": "code",
   "execution_count": 8,
   "id": "2dd3b20e",
   "metadata": {},
   "outputs": [
    {
     "data": {
      "text/plain": [
       "(42000, 785)"
      ]
     },
     "execution_count": 8,
     "metadata": {},
     "output_type": "execute_result"
    }
   ],
   "source": [
    "# Read the data\n",
    "digit_read_train=pd.read_csv('C:/Users/16292/Vishnupriya/DeepLearning/digit-recognizer/train.csv')\n",
    "digit_read_train.shape"
   ]
  },
  {
   "cell_type": "code",
   "execution_count": 9,
   "id": "41a09719",
   "metadata": {},
   "outputs": [],
   "source": [
    "#Extract the data and normalizing it\n",
    "x_train = digit_read_train.drop(columns=\"label\")\n",
    "y_train = digit_read_train[\"label\"]\n",
    "X_train=x_train/255"
   ]
  },
  {
   "cell_type": "code",
   "execution_count": 10,
   "id": "dea4ff7e",
   "metadata": {},
   "outputs": [
    {
     "data": {
      "text/plain": [
       "0    1\n",
       "1    0\n",
       "2    1\n",
       "3    4\n",
       "4    0\n",
       "Name: label, dtype: int64"
      ]
     },
     "execution_count": 10,
     "metadata": {},
     "output_type": "execute_result"
    }
   ],
   "source": [
    "#Labels\n",
    "y_train.head() "
   ]
  },
  {
   "cell_type": "code",
   "execution_count": 11,
   "id": "edfd2c29",
   "metadata": {},
   "outputs": [
    {
     "data": {
      "text/plain": [
       "1"
      ]
     },
     "execution_count": 11,
     "metadata": {},
     "output_type": "execute_result"
    }
   ],
   "source": [
    "# Encoding labels into categories\n",
    "Y_train = keras.utils.to_categorical(y_train, 10)\n",
    "y_train[0]"
   ]
  },
  {
   "cell_type": "code",
   "execution_count": 12,
   "id": "19a9280c",
   "metadata": {},
   "outputs": [
    {
     "data": {
      "text/plain": [
       "0        1\n",
       "1        0\n",
       "2        1\n",
       "3        4\n",
       "4        0\n",
       "        ..\n",
       "41995    0\n",
       "41996    1\n",
       "41997    7\n",
       "41998    6\n",
       "41999    9\n",
       "Name: label, Length: 42000, dtype: int64"
      ]
     },
     "execution_count": 12,
     "metadata": {},
     "output_type": "execute_result"
    }
   ],
   "source": [
    "y_train"
   ]
  },
  {
   "cell_type": "code",
   "execution_count": 13,
   "id": "a400f626",
   "metadata": {},
   "outputs": [
    {
     "data": {
      "text/plain": [
       "array([0., 1., 0., 0., 0., 0., 0., 0., 0., 0.], dtype=float32)"
      ]
     },
     "execution_count": 13,
     "metadata": {},
     "output_type": "execute_result"
    }
   ],
   "source": [
    "Y_train[0]"
   ]
  },
  {
   "cell_type": "code",
   "execution_count": 14,
   "id": "b33801a6",
   "metadata": {},
   "outputs": [
    {
     "name": "stdout",
     "output_type": "stream",
     "text": [
      "(42000, 28, 28, 1)\n",
      "(42000, 10)\n"
     ]
    }
   ],
   "source": [
    "#Reshaping the training dataset to \n",
    "X_train = X_train.values.reshape(-1, 28, 28, 1)\n",
    "print(X_train.shape)\n",
    "print(Y_train.shape)"
   ]
  },
  {
   "cell_type": "markdown",
   "id": "f17b8617",
   "metadata": {},
   "source": [
    "#### Splitting the dataset into test, train and validation datasets"
   ]
  },
  {
   "cell_type": "code",
   "execution_count": 15,
   "id": "cad82c44",
   "metadata": {},
   "outputs": [],
   "source": [
    "X_train,X_part,Y_train,Y_part=train_test_split(X_train,Y_train,train_size=0.8,random_state=42)"
   ]
  },
  {
   "cell_type": "code",
   "execution_count": 16,
   "id": "bccb9d3e",
   "metadata": {},
   "outputs": [],
   "source": [
    "X_valid, X_test, Y_valid, Y_test = train_test_split(X_part,Y_part, test_size=0.5)"
   ]
  },
  {
   "cell_type": "code",
   "execution_count": 17,
   "id": "878c84a0",
   "metadata": {},
   "outputs": [
    {
     "data": {
      "text/plain": [
       "(33600, 28, 28, 1)"
      ]
     },
     "execution_count": 17,
     "metadata": {},
     "output_type": "execute_result"
    }
   ],
   "source": [
    "X_train.shape"
   ]
  },
  {
   "cell_type": "code",
   "execution_count": 18,
   "id": "0a4405b1",
   "metadata": {},
   "outputs": [
    {
     "data": {
      "text/plain": [
       "(8400, 28, 28, 1)"
      ]
     },
     "execution_count": 18,
     "metadata": {},
     "output_type": "execute_result"
    }
   ],
   "source": [
    "X_part.shape"
   ]
  },
  {
   "cell_type": "code",
   "execution_count": 19,
   "id": "0706ba61",
   "metadata": {},
   "outputs": [
    {
     "data": {
      "text/plain": [
       "(33600, 10)"
      ]
     },
     "execution_count": 19,
     "metadata": {},
     "output_type": "execute_result"
    }
   ],
   "source": [
    "Y_train.shape"
   ]
  },
  {
   "cell_type": "code",
   "execution_count": 20,
   "id": "2124cc88",
   "metadata": {},
   "outputs": [
    {
     "data": {
      "text/plain": [
       "(8400, 10)"
      ]
     },
     "execution_count": 20,
     "metadata": {},
     "output_type": "execute_result"
    }
   ],
   "source": [
    "Y_part.shape"
   ]
  },
  {
   "cell_type": "code",
   "execution_count": 21,
   "id": "efd03f52",
   "metadata": {},
   "outputs": [
    {
     "data": {
      "text/plain": [
       "(4200, 28, 28, 1)"
      ]
     },
     "execution_count": 21,
     "metadata": {},
     "output_type": "execute_result"
    }
   ],
   "source": [
    "X_valid.shape"
   ]
  },
  {
   "cell_type": "code",
   "execution_count": 22,
   "id": "f7b39e0d",
   "metadata": {},
   "outputs": [
    {
     "data": {
      "text/plain": [
       "(4200, 28, 28, 1)"
      ]
     },
     "execution_count": 22,
     "metadata": {},
     "output_type": "execute_result"
    }
   ],
   "source": [
    "X_test.shape"
   ]
  },
  {
   "cell_type": "code",
   "execution_count": 23,
   "id": "405a5f7c",
   "metadata": {},
   "outputs": [
    {
     "data": {
      "text/plain": [
       "(4200, 10)"
      ]
     },
     "execution_count": 23,
     "metadata": {},
     "output_type": "execute_result"
    }
   ],
   "source": [
    "Y_valid.shape"
   ]
  },
  {
   "cell_type": "code",
   "execution_count": 24,
   "id": "8a209411",
   "metadata": {},
   "outputs": [
    {
     "data": {
      "text/plain": [
       "(4200, 10)"
      ]
     },
     "execution_count": 24,
     "metadata": {},
     "output_type": "execute_result"
    }
   ],
   "source": [
    "Y_test.shape"
   ]
  },
  {
   "cell_type": "markdown",
   "id": "001c74ed",
   "metadata": {},
   "source": [
    "#### The Sample Dataset"
   ]
  },
  {
   "cell_type": "code",
   "execution_count": 25,
   "id": "fad61c83",
   "metadata": {},
   "outputs": [
    {
     "name": "stdout",
     "output_type": "stream",
     "text": [
      "Saving figure digit_data_plot\n"
     ]
    },
    {
     "data": {
      "image/png": "[encoded data removed]",
      "text/plain": [
       "<Figure size 1200x480 with 40 Axes>"
      ]
     },
     "metadata": {},
     "output_type": "display_data"
    }
   ],
   "source": [
    "n_rows = 4\n",
    "n_cols = 10\n",
    "plt.figure(figsize=(n_cols * 1.2, n_rows * 1.2))\n",
    "for row in range(n_rows):\n",
    "    for col in range(n_cols):\n",
    "        index = n_cols * row + col\n",
    "        plt.subplot(n_rows, n_cols, index + 1)\n",
    "        plt.imshow(X_train[index], cmap=\"binary\", interpolation=\"nearest\")\n",
    "        plt.axis('off')\n",
    "plt.subplots_adjust(wspace=0.2, hspace=0.5)\n",
    "save_fig('digit_data_plot', tight_layout=False)\n",
    "plt.show()"
   ]
  },
  {
   "cell_type": "markdown",
   "id": "d7b2ae0d",
   "metadata": {},
   "source": [
    "#### Custom Activation Functions, Initializers and Constraints"
   ]
  },
  {
   "cell_type": "code",
   "execution_count": 26,
   "id": "215e310f",
   "metadata": {},
   "outputs": [],
   "source": [
    "from scipy.special import erfc\n",
    "\n",
    "# alpha and scale to self normalize with mean 0 and standard deviation 1\n",
    "\n",
    "alpha_0_1 = -np.sqrt(2 / np.pi) / (erfc(1/np.sqrt(2)) * np.exp(1/2) - 1)\n",
    "scale_0_1 = (1 - erfc(1 / np.sqrt(2)) * np.sqrt(np.e)) * np.sqrt(2 * np.pi) * (2 * erfc(np.sqrt(2))*np.e**2 + np.pi*erfc(1/np.sqrt(2))**2*np.e - 2*(2+np.pi)*erfc(1/np.sqrt(2))*np.sqrt(np.e)+np.pi+2)**(-1/2)"
   ]
  },
  {
   "cell_type": "code",
   "execution_count": 27,
   "id": "254a51da",
   "metadata": {},
   "outputs": [],
   "source": [
    "def softplus_func(a):\n",
    "    return tf.math.log(tf.exp(a) + 1)"
   ]
  },
  {
   "cell_type": "code",
   "execution_count": 28,
   "id": "7fc1a194",
   "metadata": {},
   "outputs": [],
   "source": [
    "def glorot_initializer(shape, dtype=tf.float32):\n",
    "    stddev = tf.sqrt(2. / (shape[0] + shape[1]))\n",
    "    return tf.random.normal(shape, stddev=stddev, dtype=dtype)"
   ]
  },
  {
   "cell_type": "code",
   "execution_count": 29,
   "id": "5d46e075",
   "metadata": {},
   "outputs": [],
   "source": [
    "def l1_regularizerfunc(weights):\n",
    "    return tf.reduce_sum(tf.abs(0.01 * weights))"
   ]
  },
  {
   "cell_type": "code",
   "execution_count": 30,
   "id": "38e3d9e3",
   "metadata": {},
   "outputs": [],
   "source": [
    "def positive_weightsfunc(weights):\n",
    "    return tf.where(weights < 0., tf.zeros_like(weights), weights)"
   ]
  },
  {
   "cell_type": "code",
   "execution_count": 31,
   "id": "2b4e05e7",
   "metadata": {},
   "outputs": [],
   "source": [
    "def standardization_func(tensor):\n",
    "    means = tf.math.reduce_mean(tensor, axis=None, keepdims=True, name=None)\n",
    "    stds = tf.math.reduce_std(tensor, axis=None, keepdims=True, name=None)\n",
    "    eps = keras.backend.epsilon()\n",
    "    return ((tensor - means) / (stds + eps))"
   ]
  },
  {
   "cell_type": "markdown",
   "id": "523bb13b",
   "metadata": {},
   "source": [
    "#### Building the model without the CNN\n",
    "* Flatten the inputs and pass it on to a fully connected dense layer, using SELU activation function and 'Lecun Normal' Kernel Initializer. \n",
    "* Before passing it on to a PRELU layer, add a lambda layer to standardize and transform the input features. \n",
    "* Add the dense layer and use the customised activation function, regularizer, initializer and constraints. \n",
    "* Finally, add an output layer of 10 units for representing 10 digit classes using the softmax activation function."
   ]
  },
  {
   "cell_type": "code",
   "execution_count": 28,
   "id": "4d021449",
   "metadata": {},
   "outputs": [],
   "source": [
    "model = tf.keras.Sequential()\n",
    "input_ = layers.Input(shape=(28,28,1), name=\"input_\")\n",
    "input_flatten = layers.Flatten()(input_)\n",
    "denselayer_1 = layers.Dense(units=80, activation=\"selu\", kernel_initializer='lecun_normal')(input_flatten)\n",
    "lambda_layer = layers.Lambda(standardization_func, name=\"lambda_layer\")(denselayer_1)\n",
    "prelu_layer = layers.PReLU()(lambda_layer)\n",
    "denselayer_2 = layers.Dense(1, activation=softplus_func,\n",
    "                       kernel_initializer=glorot_initializer,\n",
    "                       kernel_regularizer=l1_regularizerfunc,\n",
    "                       kernel_constraint=positive_weightsfunc)(prelu_layer)\n",
    "output_layer = layers.Dense(10,activation=\"softmax\")(denselayer_2)"
   ]
  },
  {
   "cell_type": "code",
   "execution_count": 29,
   "id": "5075390f",
   "metadata": {},
   "outputs": [],
   "source": [
    "model = tf.keras.models.Model(input_, output_layer, name=\"model\")"
   ]
  },
  {
   "cell_type": "code",
   "execution_count": 30,
   "id": "3059585d",
   "metadata": {},
   "outputs": [
    {
     "name": "stdout",
     "output_type": "stream",
     "text": [
      "Model: \"model\"\n",
      "_________________________________________________________________\n",
      " Layer (type)                Output Shape              Param #   \n",
      "=================================================================\n",
      " input_ (InputLayer)         [(None, 28, 28, 1)]       0         \n",
      "                                                                 \n",
      " flatten (Flatten)           (None, 784)               0         \n",
      "                                                                 \n",
      " dense (Dense)               (None, 80)                62800     \n",
      "                                                                 \n",
      " lambda_layer (Lambda)       (None, 80)                0         \n",
      "                                                                 \n",
      " p_re_lu (PReLU)             (None, 80)                80        \n",
      "                                                                 \n",
      " dense_1 (Dense)             (None, 1)                 81        \n",
      "                                                                 \n",
      " dense_2 (Dense)             (None, 10)                20        \n",
      "                                                                 \n",
      "=================================================================\n",
      "Total params: 62,981\n",
      "Trainable params: 62,981\n",
      "Non-trainable params: 0\n",
      "_________________________________________________________________\n"
     ]
    }
   ],
   "source": [
    "model.summary()"
   ]
  },
  {
   "cell_type": "code",
   "execution_count": 31,
   "id": "75837fd2",
   "metadata": {},
   "outputs": [],
   "source": [
    "# Compile the Model\n",
    "model.compile(loss=\"categorical_crossentropy\",optimizer= keras.optimizers.SGD(learning_rate=1e-3),\n",
    "              metrics=['accuracy'])"
   ]
  },
  {
   "cell_type": "code",
   "execution_count": 32,
   "id": "afa99957",
   "metadata": {},
   "outputs": [
    {
     "name": "stdout",
     "output_type": "stream",
     "text": [
      "Epoch 1/90\n",
      "1050/1050 [==============================] - 7s 6ms/step - loss: 2.4068 - accuracy: 0.0961 - val_loss: 2.3693 - val_accuracy: 0.0936\n",
      "Epoch 2/90\n",
      "1050/1050 [==============================] - 5s 5ms/step - loss: 2.3434 - accuracy: 0.0961 - val_loss: 2.3348 - val_accuracy: 0.0936\n",
      "Epoch 3/90\n",
      "1050/1050 [==============================] - 6s 5ms/step - loss: 2.3089 - accuracy: 0.0961 - val_loss: 2.2982 - val_accuracy: 0.0936\n",
      "Epoch 4/90\n",
      "1050/1050 [==============================] - 6s 5ms/step - loss: 2.2696 - accuracy: 0.0935 - val_loss: 2.2565 - val_accuracy: 0.0876\n",
      "Epoch 5/90\n",
      "1050/1050 [==============================] - 6s 5ms/step - loss: 2.2250 - accuracy: 0.0831 - val_loss: 2.2095 - val_accuracy: 0.0745\n",
      "Epoch 6/90\n",
      "1050/1050 [==============================] - 6s 5ms/step - loss: 2.1775 - accuracy: 0.0876 - val_loss: 2.1623 - val_accuracy: 0.1107\n",
      "Epoch 7/90\n",
      "1050/1050 [==============================] - 6s 5ms/step - loss: 2.1346 - accuracy: 0.1461 - val_loss: 2.1226 - val_accuracy: 0.1545\n",
      "Epoch 8/90\n",
      "1050/1050 [==============================] - 4s 4ms/step - loss: 2.1009 - accuracy: 0.1651 - val_loss: 2.0921 - val_accuracy: 0.1760\n",
      "Epoch 9/90\n",
      "1050/1050 [==============================] - 6s 5ms/step - loss: 2.0749 - accuracy: 0.1846 - val_loss: 2.0673 - val_accuracy: 0.1945\n",
      "Epoch 10/90\n",
      "1050/1050 [==============================] - 6s 6ms/step - loss: 2.0528 - accuracy: 0.1959 - val_loss: 2.0462 - val_accuracy: 0.2062\n",
      "Epoch 11/90\n",
      "1050/1050 [==============================] - 6s 6ms/step - loss: 2.0335 - accuracy: 0.2040 - val_loss: 2.0276 - val_accuracy: 0.2133\n",
      "Epoch 12/90\n",
      "1050/1050 [==============================] - 6s 6ms/step - loss: 2.0162 - accuracy: 0.2092 - val_loss: 2.0108 - val_accuracy: 0.2217\n",
      "Epoch 13/90\n",
      "1050/1050 [==============================] - 6s 5ms/step - loss: 2.0005 - accuracy: 0.2238 - val_loss: 1.9955 - val_accuracy: 0.2393\n",
      "Epoch 14/90\n",
      "1050/1050 [==============================] - 6s 5ms/step - loss: 1.9861 - accuracy: 0.2419 - val_loss: 1.9817 - val_accuracy: 0.2581\n",
      "Epoch 15/90\n",
      "1050/1050 [==============================] - 6s 6ms/step - loss: 1.9728 - accuracy: 0.2552 - val_loss: 1.9689 - val_accuracy: 0.2650\n",
      "Epoch 16/90\n",
      "1050/1050 [==============================] - 6s 5ms/step - loss: 1.9610 - accuracy: 0.2596 - val_loss: 1.9575 - val_accuracy: 0.2607\n",
      "Epoch 17/90\n",
      "1050/1050 [==============================] - 6s 6ms/step - loss: 1.9502 - accuracy: 0.2593 - val_loss: 1.9469 - val_accuracy: 0.2607\n",
      "Epoch 18/90\n",
      "1050/1050 [==============================] - 5s 4ms/step - loss: 1.9406 - accuracy: 0.2589 - val_loss: 1.9377 - val_accuracy: 0.2629\n",
      "Epoch 19/90\n",
      "1050/1050 [==============================] - 5s 5ms/step - loss: 1.9314 - accuracy: 0.2595 - val_loss: 1.9282 - val_accuracy: 0.2610\n",
      "Epoch 20/90\n",
      "1050/1050 [==============================] - 6s 6ms/step - loss: 1.9228 - accuracy: 0.2575 - val_loss: 1.9199 - val_accuracy: 0.2617\n",
      "Epoch 21/90\n",
      "1050/1050 [==============================] - 6s 5ms/step - loss: 1.9152 - accuracy: 0.2584 - val_loss: 1.9122 - val_accuracy: 0.2600\n",
      "Epoch 22/90\n",
      "1050/1050 [==============================] - 6s 6ms/step - loss: 1.9079 - accuracy: 0.2591 - val_loss: 1.9049 - val_accuracy: 0.2621\n",
      "Epoch 23/90\n",
      "1050/1050 [==============================] - 5s 5ms/step - loss: 1.9004 - accuracy: 0.2590 - val_loss: 1.8976 - val_accuracy: 0.2583\n",
      "Epoch 24/90\n",
      "1050/1050 [==============================] - 6s 6ms/step - loss: 1.8936 - accuracy: 0.2570 - val_loss: 1.8905 - val_accuracy: 0.2571\n",
      "Epoch 25/90\n",
      "1050/1050 [==============================] - 6s 6ms/step - loss: 1.8874 - accuracy: 0.2561 - val_loss: 1.8841 - val_accuracy: 0.2574\n",
      "Epoch 26/90\n",
      "1050/1050 [==============================] - 6s 6ms/step - loss: 1.8811 - accuracy: 0.2573 - val_loss: 1.8777 - val_accuracy: 0.2571\n",
      "Epoch 27/90\n",
      "1050/1050 [==============================] - 6s 6ms/step - loss: 1.8746 - accuracy: 0.2553 - val_loss: 1.8716 - val_accuracy: 0.2571\n",
      "Epoch 28/90\n",
      "1050/1050 [==============================] - 6s 6ms/step - loss: 1.8689 - accuracy: 0.2582 - val_loss: 1.8658 - val_accuracy: 0.2564\n",
      "Epoch 29/90\n",
      "1050/1050 [==============================] - 6s 6ms/step - loss: 1.8632 - accuracy: 0.2588 - val_loss: 1.8603 - val_accuracy: 0.2567\n",
      "Epoch 30/90\n",
      "1050/1050 [==============================] - 6s 6ms/step - loss: 1.8580 - accuracy: 0.2607 - val_loss: 1.8544 - val_accuracy: 0.2586\n",
      "Epoch 31/90\n",
      "1050/1050 [==============================] - 6s 6ms/step - loss: 1.8526 - accuracy: 0.2599 - val_loss: 1.8491 - val_accuracy: 0.2600\n",
      "Epoch 32/90\n",
      "1050/1050 [==============================] - 6s 6ms/step - loss: 1.8475 - accuracy: 0.2631 - val_loss: 1.8438 - val_accuracy: 0.2605\n",
      "Epoch 33/90\n",
      "1050/1050 [==============================] - 5s 5ms/step - loss: 1.8424 - accuracy: 0.2638 - val_loss: 1.8386 - val_accuracy: 0.2667\n",
      "Epoch 34/90\n",
      "1050/1050 [==============================] - 4s 4ms/step - loss: 1.8370 - accuracy: 0.2661 - val_loss: 1.8332 - val_accuracy: 0.2636\n",
      "Epoch 35/90\n",
      "1050/1050 [==============================] - 6s 6ms/step - loss: 1.8322 - accuracy: 0.2667 - val_loss: 1.8283 - val_accuracy: 0.2702\n",
      "Epoch 36/90\n",
      "1050/1050 [==============================] - 6s 6ms/step - loss: 1.8272 - accuracy: 0.2680 - val_loss: 1.8232 - val_accuracy: 0.2648\n",
      "Epoch 37/90\n",
      "1050/1050 [==============================] - 6s 6ms/step - loss: 1.8221 - accuracy: 0.2702 - val_loss: 1.8181 - val_accuracy: 0.2690\n",
      "Epoch 38/90\n",
      "1050/1050 [==============================] - 6s 6ms/step - loss: 1.8172 - accuracy: 0.2721 - val_loss: 1.8131 - val_accuracy: 0.2724\n",
      "Epoch 39/90\n",
      "1050/1050 [==============================] - 6s 6ms/step - loss: 1.8123 - accuracy: 0.2757 - val_loss: 1.8089 - val_accuracy: 0.2698\n",
      "Epoch 40/90\n",
      "1050/1050 [==============================] - 6s 6ms/step - loss: 1.8075 - accuracy: 0.2748 - val_loss: 1.8035 - val_accuracy: 0.2726\n",
      "Epoch 41/90\n",
      "1050/1050 [==============================] - 6s 6ms/step - loss: 1.8025 - accuracy: 0.2788 - val_loss: 1.7983 - val_accuracy: 0.2762\n",
      "Epoch 42/90\n",
      "1050/1050 [==============================] - 5s 5ms/step - loss: 1.7978 - accuracy: 0.2803 - val_loss: 1.7935 - val_accuracy: 0.2781\n",
      "Epoch 43/90\n",
      "1050/1050 [==============================] - 6s 6ms/step - loss: 1.7928 - accuracy: 0.2824 - val_loss: 1.7884 - val_accuracy: 0.2855\n",
      "Epoch 44/90\n",
      "1050/1050 [==============================] - 6s 6ms/step - loss: 1.7878 - accuracy: 0.2847 - val_loss: 1.7834 - val_accuracy: 0.2829\n",
      "Epoch 45/90\n",
      "1050/1050 [==============================] - 5s 5ms/step - loss: 1.7832 - accuracy: 0.2869 - val_loss: 1.7787 - val_accuracy: 0.2867\n",
      "Epoch 46/90\n",
      "1050/1050 [==============================] - 5s 4ms/step - loss: 1.7782 - accuracy: 0.2882 - val_loss: 1.7734 - val_accuracy: 0.2883\n",
      "Epoch 47/90\n",
      "1050/1050 [==============================] - 6s 5ms/step - loss: 1.7733 - accuracy: 0.2908 - val_loss: 1.7683 - val_accuracy: 0.2931\n",
      "Epoch 48/90\n",
      "1050/1050 [==============================] - 6s 6ms/step - loss: 1.7683 - accuracy: 0.2909 - val_loss: 1.7633 - val_accuracy: 0.2955\n",
      "Epoch 49/90\n",
      "1050/1050 [==============================] - 6s 6ms/step - loss: 1.7633 - accuracy: 0.2939 - val_loss: 1.7585 - val_accuracy: 0.2945\n",
      "Epoch 50/90\n",
      "1050/1050 [==============================] - 6s 6ms/step - loss: 1.7585 - accuracy: 0.2979 - val_loss: 1.7534 - val_accuracy: 0.2967\n",
      "Epoch 51/90\n",
      "1050/1050 [==============================] - 6s 6ms/step - loss: 1.7534 - accuracy: 0.2979 - val_loss: 1.7486 - val_accuracy: 0.2967\n",
      "Epoch 52/90\n",
      "1050/1050 [==============================] - 6s 5ms/step - loss: 1.7487 - accuracy: 0.2979 - val_loss: 1.7437 - val_accuracy: 0.3050\n",
      "Epoch 53/90\n",
      "1050/1050 [==============================] - 6s 6ms/step - loss: 1.7439 - accuracy: 0.3038 - val_loss: 1.7387 - val_accuracy: 0.3031\n",
      "Epoch 54/90\n",
      "1050/1050 [==============================] - 6s 6ms/step - loss: 1.7393 - accuracy: 0.3030 - val_loss: 1.7343 - val_accuracy: 0.3002\n",
      "Epoch 55/90\n",
      "1050/1050 [==============================] - 6s 5ms/step - loss: 1.7345 - accuracy: 0.3043 - val_loss: 1.7298 - val_accuracy: 0.3029\n",
      "Epoch 56/90\n",
      "1050/1050 [==============================] - 6s 6ms/step - loss: 1.7295 - accuracy: 0.3084 - val_loss: 1.7244 - val_accuracy: 0.3040\n",
      "Epoch 57/90\n",
      "1050/1050 [==============================] - 6s 5ms/step - loss: 1.7252 - accuracy: 0.3093 - val_loss: 1.7196 - val_accuracy: 0.3057\n",
      "Epoch 58/90\n",
      "1050/1050 [==============================] - 5s 5ms/step - loss: 1.7205 - accuracy: 0.3080 - val_loss: 1.7153 - val_accuracy: 0.3093\n",
      "Epoch 59/90\n",
      "1050/1050 [==============================] - 5s 5ms/step - loss: 1.7160 - accuracy: 0.3095 - val_loss: 1.7107 - val_accuracy: 0.3131\n",
      "Epoch 60/90\n",
      "1050/1050 [==============================] - 5s 5ms/step - loss: 1.7111 - accuracy: 0.3115 - val_loss: 1.7062 - val_accuracy: 0.3093\n",
      "Epoch 61/90\n",
      "1050/1050 [==============================] - 5s 5ms/step - loss: 1.7069 - accuracy: 0.3110 - val_loss: 1.7027 - val_accuracy: 0.3062\n",
      "Epoch 62/90\n",
      "1050/1050 [==============================] - 6s 6ms/step - loss: 1.7025 - accuracy: 0.3130 - val_loss: 1.6984 - val_accuracy: 0.3098\n",
      "Epoch 63/90\n",
      "1050/1050 [==============================] - 6s 6ms/step - loss: 1.6985 - accuracy: 0.3172 - val_loss: 1.6940 - val_accuracy: 0.3088\n",
      "Epoch 64/90\n",
      "1050/1050 [==============================] - 6s 6ms/step - loss: 1.6944 - accuracy: 0.3139 - val_loss: 1.6903 - val_accuracy: 0.3200\n",
      "Epoch 65/90\n",
      "1050/1050 [==============================] - 6s 6ms/step - loss: 1.6902 - accuracy: 0.3171 - val_loss: 1.6856 - val_accuracy: 0.3129\n",
      "Epoch 66/90\n",
      "1050/1050 [==============================] - 6s 6ms/step - loss: 1.6866 - accuracy: 0.3159 - val_loss: 1.6821 - val_accuracy: 0.3121\n",
      "Epoch 67/90\n",
      "1050/1050 [==============================] - 6s 6ms/step - loss: 1.6823 - accuracy: 0.3176 - val_loss: 1.6781 - val_accuracy: 0.3105\n",
      "Epoch 68/90\n",
      "1050/1050 [==============================] - 6s 6ms/step - loss: 1.6784 - accuracy: 0.3189 - val_loss: 1.6741 - val_accuracy: 0.3188\n",
      "Epoch 69/90\n",
      "1050/1050 [==============================] - 6s 6ms/step - loss: 1.6745 - accuracy: 0.3186 - val_loss: 1.6707 - val_accuracy: 0.3217\n",
      "Epoch 70/90\n",
      "1050/1050 [==============================] - 6s 6ms/step - loss: 1.6705 - accuracy: 0.3181 - val_loss: 1.6666 - val_accuracy: 0.3198\n",
      "Epoch 71/90\n",
      "1050/1050 [==============================] - 6s 6ms/step - loss: 1.6670 - accuracy: 0.3193 - val_loss: 1.6638 - val_accuracy: 0.3200\n",
      "Epoch 72/90\n",
      "1050/1050 [==============================] - 6s 5ms/step - loss: 1.6635 - accuracy: 0.3215 - val_loss: 1.6602 - val_accuracy: 0.3217\n",
      "Epoch 73/90\n",
      "1050/1050 [==============================] - 6s 5ms/step - loss: 1.6598 - accuracy: 0.3215 - val_loss: 1.6567 - val_accuracy: 0.3207\n",
      "Epoch 74/90\n",
      "1050/1050 [==============================] - 6s 6ms/step - loss: 1.6564 - accuracy: 0.3217 - val_loss: 1.6532 - val_accuracy: 0.3219\n",
      "Epoch 75/90\n",
      "1050/1050 [==============================] - 6s 6ms/step - loss: 1.6528 - accuracy: 0.3228 - val_loss: 1.6499 - val_accuracy: 0.3260\n",
      "Epoch 76/90\n",
      "1050/1050 [==============================] - 6s 6ms/step - loss: 1.6496 - accuracy: 0.3229 - val_loss: 1.6471 - val_accuracy: 0.3193\n",
      "Epoch 77/90\n",
      "1050/1050 [==============================] - 6s 6ms/step - loss: 1.6464 - accuracy: 0.3228 - val_loss: 1.6436 - val_accuracy: 0.3252\n",
      "Epoch 78/90\n",
      "1050/1050 [==============================] - 6s 6ms/step - loss: 1.6434 - accuracy: 0.3257 - val_loss: 1.6411 - val_accuracy: 0.3229\n",
      "Epoch 79/90\n",
      "1050/1050 [==============================] - 6s 6ms/step - loss: 1.6402 - accuracy: 0.3268 - val_loss: 1.6379 - val_accuracy: 0.3212\n",
      "Epoch 80/90\n",
      "1050/1050 [==============================] - 6s 6ms/step - loss: 1.6371 - accuracy: 0.3278 - val_loss: 1.6349 - val_accuracy: 0.3310\n",
      "Epoch 81/90\n",
      "1050/1050 [==============================] - 6s 6ms/step - loss: 1.6342 - accuracy: 0.3251 - val_loss: 1.6332 - val_accuracy: 0.3245\n",
      "Epoch 82/90\n",
      "1050/1050 [==============================] - 6s 6ms/step - loss: 1.6318 - accuracy: 0.3309 - val_loss: 1.6295 - val_accuracy: 0.3281\n",
      "Epoch 83/90\n",
      "1050/1050 [==============================] - 6s 6ms/step - loss: 1.6286 - accuracy: 0.3290 - val_loss: 1.6271 - val_accuracy: 0.3305\n",
      "Epoch 84/90\n",
      "1050/1050 [==============================] - 6s 6ms/step - loss: 1.6253 - accuracy: 0.3293 - val_loss: 1.6255 - val_accuracy: 0.3198\n",
      "Epoch 85/90\n",
      "1050/1050 [==============================] - 6s 6ms/step - loss: 1.6230 - accuracy: 0.3282 - val_loss: 1.6218 - val_accuracy: 0.3300\n",
      "Epoch 86/90\n",
      "1050/1050 [==============================] - 6s 6ms/step - loss: 1.6201 - accuracy: 0.3310 - val_loss: 1.6191 - val_accuracy: 0.3333\n",
      "Epoch 87/90\n",
      "1050/1050 [==============================] - 6s 6ms/step - loss: 1.6176 - accuracy: 0.3301 - val_loss: 1.6171 - val_accuracy: 0.3369\n",
      "Epoch 88/90\n",
      "1050/1050 [==============================] - 5s 5ms/step - loss: 1.6156 - accuracy: 0.3282 - val_loss: 1.6148 - val_accuracy: 0.3350\n",
      "Epoch 89/90\n",
      "1050/1050 [==============================] - 5s 4ms/step - loss: 1.6130 - accuracy: 0.3326 - val_loss: 1.6122 - val_accuracy: 0.3290\n",
      "Epoch 90/90\n",
      "1050/1050 [==============================] - 6s 5ms/step - loss: 1.6102 - accuracy: 0.3281 - val_loss: 1.6101 - val_accuracy: 0.3400\n"
     ]
    }
   ],
   "source": [
    "history_train=model.fit(X_train,Y_train,epochs=90,validation_data=(X_valid,Y_valid))\n"
   ]
  },
  {
   "cell_type": "markdown",
   "id": "e4985fe0",
   "metadata": {},
   "source": [
    "#### Accuracy Evaluation and Learning Curves"
   ]
  },
  {
   "cell_type": "code",
   "execution_count": 33,
   "id": "98cdcc35",
   "metadata": {
    "scrolled": true
   },
   "outputs": [
    {
     "name": "stdout",
     "output_type": "stream",
     "text": [
      "132/132 [==============================] - 1s 4ms/step - loss: 1.6137 - accuracy: 0.3460\n"
     ]
    }
   ],
   "source": [
    "accuracy=model.evaluate(X_test,Y_test)"
   ]
  },
  {
   "cell_type": "markdown",
   "id": "65886ee2",
   "metadata": {},
   "source": [
    "##### Attained an accuracy of only 34.60%"
   ]
  },
  {
   "cell_type": "code",
   "execution_count": 34,
   "id": "82c0437f",
   "metadata": {},
   "outputs": [
    {
     "data": {
      "image/png": "[encoded data removed]",
      "text/plain": [
       "<Figure size 800x500 with 1 Axes>"
      ]
     },
     "metadata": {},
     "output_type": "display_data"
    }
   ],
   "source": [
    "pd.DataFrame(history_train.history).plot(figsize=(8, 5))\n",
    "plt.grid(True)\n",
    "plt.gca().set_ylim(0, 2)\n",
    "plt.show()"
   ]
  },
  {
   "cell_type": "markdown",
   "id": "f159eab0",
   "metadata": {},
   "source": [
    "#### Building a model with CNN\n",
    "* Build a better model using CNN in an attempt to increase the accuracy and efficiency\n",
    "* Convolution layers with MaxPooling layers are added and output layer used alongwith a SoftMax activation function"
   ]
  },
  {
   "cell_type": "code",
   "execution_count": 32,
   "id": "2005a335",
   "metadata": {},
   "outputs": [],
   "source": [
    "cnn_model = tf.keras.Sequential()\n",
    "input_ = layers.Input(shape=(28,28,1), name=\"input_\")\n",
    "cnn_1 = layers.Conv2D(64, 7, activation='relu', padding='same')(input_)\n",
    "mp_1 = layers.MaxPooling2D(2)(cnn_1)\n",
    "cnn_2 = layers.Conv2D(128, 3, activation='selu', padding='same')(mp_1)\n",
    "cnn_3 = layers.Conv2D(128, 3, activation='selu', padding='same')(cnn_2)\n",
    "mp_2 = layers.MaxPooling2D(2)(cnn_3)\n",
    "cnn_4 = layers.Conv2D(256, 3, activation='selu', padding='same')(mp_2)\n",
    "cnn_5 = layers.Conv2D(256, 3, activation='selu', padding='same')(cnn_4)\n",
    "mp_3 = layers.MaxPooling2D(2)(cnn_5)\n",
    "cnn_6 = layers.Conv2D(512, 3, activation='selu', padding='same')(mp_3)\n",
    "cnn_7 = layers.Conv2D(512, 3, activation='selu', padding='same')(cnn_6)\n",
    "mp_4 = layers.MaxPooling2D(2)(cnn_7)\n",
    "cnn_8 = layers.Conv2D(1024, 3, activation='selu', padding='same')(mp_4)\n",
    "flatten_layer = layers.Flatten()(cnn_8)\n",
    "output_layer = layers.Dense(10,activation=\"softmax\")(flatten_layer)"
   ]
  },
  {
   "cell_type": "code",
   "execution_count": 33,
   "id": "77b4e483",
   "metadata": {},
   "outputs": [],
   "source": [
    "cnn_model = tf.keras.models.Model(input_, output_layer, name=\"cnn_model\")"
   ]
  },
  {
   "cell_type": "code",
   "execution_count": 34,
   "id": "0288fb35",
   "metadata": {},
   "outputs": [
    {
     "name": "stdout",
     "output_type": "stream",
     "text": [
      "Model: \"cnn_model\"\n",
      "_________________________________________________________________\n",
      " Layer (type)                Output Shape              Param #   \n",
      "=================================================================\n",
      " input_ (InputLayer)         [(None, 28, 28, 1)]       0         \n",
      "                                                                 \n",
      " conv2d (Conv2D)             (None, 28, 28, 64)        3200      \n",
      "                                                                 \n",
      " max_pooling2d (MaxPooling2D  (None, 14, 14, 64)       0         \n",
      " )                                                               \n",
      "                                                                 \n",
      " conv2d_1 (Conv2D)           (None, 14, 14, 128)       73856     \n",
      "                                                                 \n",
      " conv2d_2 (Conv2D)           (None, 14, 14, 128)       147584    \n",
      "                                                                 \n",
      " max_pooling2d_1 (MaxPooling  (None, 7, 7, 128)        0         \n",
      " 2D)                                                             \n",
      "                                                                 \n",
      " conv2d_3 (Conv2D)           (None, 7, 7, 256)         295168    \n",
      "                                                                 \n",
      " conv2d_4 (Conv2D)           (None, 7, 7, 256)         590080    \n",
      "                                                                 \n",
      " max_pooling2d_2 (MaxPooling  (None, 3, 3, 256)        0         \n",
      " 2D)                                                             \n",
      "                                                                 \n",
      " conv2d_5 (Conv2D)           (None, 3, 3, 512)         1180160   \n",
      "                                                                 \n",
      " conv2d_6 (Conv2D)           (None, 3, 3, 512)         2359808   \n",
      "                                                                 \n",
      " max_pooling2d_3 (MaxPooling  (None, 1, 1, 512)        0         \n",
      " 2D)                                                             \n",
      "                                                                 \n",
      " conv2d_7 (Conv2D)           (None, 1, 1, 1024)        4719616   \n",
      "                                                                 \n",
      " flatten (Flatten)           (None, 1024)              0         \n",
      "                                                                 \n",
      " dense (Dense)               (None, 10)                10250     \n",
      "                                                                 \n",
      "=================================================================\n",
      "Total params: 9,379,722\n",
      "Trainable params: 9,379,722\n",
      "Non-trainable params: 0\n",
      "_________________________________________________________________\n"
     ]
    }
   ],
   "source": [
    "cnn_model.summary()"
   ]
  },
  {
   "cell_type": "code",
   "execution_count": 35,
   "id": "f5b066c9",
   "metadata": {},
   "outputs": [],
   "source": [
    "# Compile the Model\n",
    "cnn_model.compile(loss=\"categorical_crossentropy\",optimizer='sgd',metrics=['accuracy'])"
   ]
  },
  {
   "cell_type": "code",
   "execution_count": 36,
   "id": "cf409627",
   "metadata": {},
   "outputs": [
    {
     "name": "stdout",
     "output_type": "stream",
     "text": [
      "Epoch 1/2\n",
      "1050/1050 [==============================] - 1373s 1s/step - loss: 0.4044 - accuracy: 0.8747 - val_loss: 0.1068 - val_accuracy: 0.9664\n",
      "Epoch 2/2\n",
      "1050/1050 [==============================] - 1344s 1s/step - loss: 0.0826 - accuracy: 0.9740 - val_loss: 0.0717 - val_accuracy: 0.9795\n"
     ]
    }
   ],
   "source": [
    "history_modelcnn =cnn_model.fit(X_train,Y_train,epochs=2,validation_data=(X_valid,Y_valid))"
   ]
  },
  {
   "cell_type": "markdown",
   "id": "16e7acb6",
   "metadata": {},
   "source": [
    "#### Accuracy Evaluation and Learning Curves"
   ]
  },
  {
   "cell_type": "code",
   "execution_count": 37,
   "id": "05e589bd",
   "metadata": {},
   "outputs": [
    {
     "name": "stdout",
     "output_type": "stream",
     "text": [
      "132/132 [==============================] - 14s 105ms/step - loss: 0.0666 - accuracy: 0.9802\n"
     ]
    }
   ],
   "source": [
    "accuracy=cnn_model.evaluate(X_test,Y_test)"
   ]
  },
  {
   "cell_type": "markdown",
   "id": "6562f33d",
   "metadata": {},
   "source": [
    "##### Attained an accuracy of 98.02%"
   ]
  },
  {
   "cell_type": "code",
   "execution_count": 38,
   "id": "2f1fec57",
   "metadata": {},
   "outputs": [
    {
     "data": {
      "image/png": "[encoded data removed]",
      "text/plain": [
       "<Figure size 800x500 with 1 Axes>"
      ]
     },
     "metadata": {},
     "output_type": "display_data"
    }
   ],
   "source": [
    "pd.DataFrame(history_modelcnn.history).plot(figsize=(8, 5))\n",
    "plt.grid(True)\n",
    "plt.gca().set_ylim(0, 2)\n",
    "plt.show()"
   ]
  },
  {
   "cell_type": "markdown",
   "id": "e4b11da2",
   "metadata": {},
   "source": [
    "#### Conclusion\n",
    "* Here we observe that the accuracy obtained by using a CNN is 98.02% which is much higher than the normal dense networks\n",
    "* The CNN converged to a better accuracy with fairly lesser number of epochs than the normal networks\n",
    "* Hence, CNNs are much more preferred"
   ]
  },
  {
   "cell_type": "code",
   "execution_count": null,
   "id": "35cf2115",
   "metadata": {},
   "outputs": [],
   "source": []
  }
 ],
 "metadata": {
  "kernelspec": {
   "display_name": "Python 3 (ipykernel)",
   "language": "python",
   "name": "python3"
  },
  "language_info": {
   "codemirror_mode": {
    "name": "ipython",
    "version": 3
   },
   "file_extension": ".py",
   "mimetype": "text/x-python",
   "name": "python",
   "nbconvert_exporter": "python",
   "pygments_lexer": "ipython3",
   "version": "3.9.13"
  }
 },
 "nbformat": 4,
 "nbformat_minor": 5
}
